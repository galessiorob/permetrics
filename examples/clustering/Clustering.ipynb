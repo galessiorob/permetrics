{
 "cells": [
  {
   "cell_type": "markdown",
   "metadata": {},
   "source": [
    "# Clustering Metrics:\n",
    "\n",
    "**Author:** Matt Q."
   ]
  },
  {
   "cell_type": "markdown",
   "metadata": {},
   "source": [
    "## Import the necessary libraries:"
   ]
  },
  {
   "cell_type": "code",
   "execution_count": 2,
   "metadata": {},
   "outputs": [
    {
     "name": "stdout",
     "output_type": "stream",
     "text": [
      "Working dir: c:\\Users\\miqui\\OneDrive\\Python-Projects\\Thieu Metrics Collaboration\\permetrics\\notebooks\n"
     ]
    }
   ],
   "source": [
    "import os\n",
    "print(\"Working dir:\", os.getcwd())"
   ]
  },
  {
   "cell_type": "code",
   "execution_count": 1,
   "metadata": {},
   "outputs": [],
   "source": [
    "import sys, os\n",
    "sys.path.append(\"C:/Users/miqui/OneDrive/Python-Projects/Thieu Metrics Collaboration/permetrics/permetrics\")"
   ]
  },
  {
   "cell_type": "code",
   "execution_count": 3,
   "metadata": {},
   "outputs": [
    {
     "ename": "ModuleNotFoundError",
     "evalue": "No module named 'permetrics.clustering'",
     "output_type": "error",
     "traceback": [
      "\u001b[1;31m---------------------------------------------------------------------------\u001b[0m",
      "\u001b[1;31mModuleNotFoundError\u001b[0m                       Traceback (most recent call last)",
      "Cell \u001b[1;32mIn [3], line 2\u001b[0m\n\u001b[0;32m      1\u001b[0m \u001b[39mimport\u001b[39;00m \u001b[39mnumpy\u001b[39;00m \u001b[39mas\u001b[39;00m \u001b[39mnp\u001b[39;00m\n\u001b[1;32m----> 2\u001b[0m \u001b[39mfrom\u001b[39;00m \u001b[39mpermetrics\u001b[39;00m\u001b[39m.\u001b[39;00m\u001b[39mclustering\u001b[39;00m \u001b[39mimport\u001b[39;00m InternalMetric\n",
      "\u001b[1;31mModuleNotFoundError\u001b[0m: No module named 'permetrics.clustering'"
     ]
    }
   ],
   "source": [
    "import numpy as np\n",
    "from permetrics.clustering import InternalMetric"
   ]
  }
 ],
 "metadata": {
  "kernelspec": {
   "display_name": "Python 3.10.6 ('MLDL')",
   "language": "python",
   "name": "python3"
  },
  "language_info": {
   "codemirror_mode": {
    "name": "ipython",
    "version": 3
   },
   "file_extension": ".py",
   "mimetype": "text/x-python",
   "name": "python",
   "nbconvert_exporter": "python",
   "pygments_lexer": "ipython3",
   "version": "3.10.6"
  },
  "orig_nbformat": 4,
  "vscode": {
   "interpreter": {
    "hash": "f294934ec600687241badbba13b5ef9e354863a1e6583340aa87f207e4656842"
   }
  }
 },
 "nbformat": 4,
 "nbformat_minor": 2
}
